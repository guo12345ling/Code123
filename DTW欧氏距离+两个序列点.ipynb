{
 "cells": [
  {
   "cell_type": "code",
   "execution_count": 22,
   "metadata": {},
   "outputs": [],
   "source": [
    "import numpy as np\n",
    "from scipy.spatial import distance\n",
    "# 距离函数\n",
    "def dis_abs(x,y):\n",
    "    return distance.cdist(x, y, 'euclidean')\n",
    "# DTW 的代码实现\n",
    "def dtw(A,B,dis_func=dis_abs):\n",
    "    N_A = len(A)\n",
    "    N_B = len(B)\n",
    "    dist = dis_func(A,B)\n",
    "    D =np.zeros([N_A,N_B])\n",
    "    D[0,0]=dist[0][0]\n",
    "    \n",
    "    # 左边一列\n",
    "    for i in range(1,N_A):\n",
    "        D[i,0] = D[i-1,0]+dist[i][0]\n",
    "        \n",
    "    # 下面的一行\n",
    "    for j in range(1,N_B):\n",
    "         D[0,j] = D[0,j-1]+dist[0][j]\n",
    "    \n",
    "    #中间部分\n",
    "    for i in range(1,N_A):\n",
    "        for j in range(1,N_B):\n",
    "            D[i,j]=dist[i][j]+min(D[i-1,j],D[i,j-1],D[i-1,j-1])\n",
    "    \n",
    "    #路径回测\n",
    "    i = N_A-1\n",
    "    j = N_B-1\n",
    "    count = 0\n",
    "    d = np.zeros(max(N_A,N_B)*3)\n",
    "    #print(d)\n",
    "    path = []\n",
    "    while True:\n",
    "        if i>0 and j>0:\n",
    "            path.append((i,j))\n",
    "            m = min(D[i-1,j],D[i,j-1],D[i-1,j-1])\n",
    "\n",
    "            if  m == D[i-1,j-1]:\n",
    "                d[count]=D[i,j] - D[i-1,j-1]\n",
    "                i = i-1\n",
    "                j = j-1\n",
    "                count = count + 1\n",
    "\n",
    "            elif  m == D[i,j-1]:\n",
    "                d[count]=D[i,j] - D[i,j-1]\n",
    "                j = j-1\n",
    "                count = count + 1\n",
    " \n",
    "            elif  m == D[i-1,j]:\n",
    "                d[count]=D[i,j] - D[i-1,j]\n",
    "                i = i-1\n",
    "                count = count + 1\n",
    "\n",
    "        elif i == 0 and j == 0:\n",
    "            path.append((i,j))\n",
    "            d[count] = D[i,j]\n",
    "            count = count + 1\n",
    "            break\n",
    "\n",
    "        elif i == 0:\n",
    "            path.append((i,j))\n",
    "            d[count]=D[i,j] - D[i,j-1]\n",
    "            j = j-1\n",
    "            count = count + 1\n",
    "\n",
    "        elif j == 0:\n",
    "            path.append((i,j))\n",
    "            d[count]=D[i,j] - D[i-1,j]\n",
    "            i = i-1\n",
    "            count = count + 1\n",
    "\n",
    "    mean = np.sum(d)/count\n",
    "    return mean,path[::-1],D    "
   ]
  },
  {
   "cell_type": "code",
   "execution_count": 23,
   "metadata": {},
   "outputs": [
    {
     "name": "stdout",
     "output_type": "stream",
     "text": [
      "1.4632343838741837\n",
      "[(0, 0), (1, 1), (2, 2), (3, 2), (4, 3), (5, 3), (6, 4)]\n",
      "[[ 1.          3.23606798  6.84161925 13.24474349 22.46428795]\n",
      " [ 2.          2.          4.23606798  9.23606798 17.04631765]\n",
      " [ 5.16227766  4.          3.41421356  6.57649122 12.40744312]\n",
      " [ 7.16227766  5.41421356  5.41421356  7.88634952 13.78759377]\n",
      " [12.99322956  9.88634952  8.57649122  6.82842712  9.99070478]\n",
      " [20.20433211 15.71730141 13.04862718  8.82842712  8.82842712]\n",
      " [28.80665737 22.92840396 18.87957907 11.99070478 10.24264069]]\n"
     ]
    }
   ],
   "source": [
    "import numpy as np\n",
    "a = [(0,2),(1,3),(2,5),(3,2),(4,7),(5,8),(6,9)]   # x的矩阵竖直0到n-1共n个点\n",
    "b = [(1,2),(2,3),(3,4),(5,6),(7,8)]               # y的矩阵水平0到n-1共n个点\n",
    "#print(a,b)\n",
    "# a = a[:,np.newaxis]\n",
    "# b = b[:,np.newaxis]\n",
    "#print(a,b)\n",
    "dis,path,D = dtw(a,b,dis_func=dis_abs)\n",
    "print(dis)\n",
    "print(path)\n",
    "print(D)"
   ]
  },
  {
   "cell_type": "code",
   "execution_count": null,
   "metadata": {},
   "outputs": [],
   "source": []
  }
 ],
 "metadata": {
  "kernelspec": {
   "display_name": "Python 3",
   "language": "python",
   "name": "python3"
  },
  "language_info": {
   "codemirror_mode": {
    "name": "ipython",
    "version": 3
   },
   "file_extension": ".py",
   "mimetype": "text/x-python",
   "name": "python",
   "nbconvert_exporter": "python",
   "pygments_lexer": "ipython3",
   "version": "3.8.3"
  }
 },
 "nbformat": 4,
 "nbformat_minor": 4
}
