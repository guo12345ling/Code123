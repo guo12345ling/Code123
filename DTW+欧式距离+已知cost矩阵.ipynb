{
 "cells": [
  {
   "cell_type": "code",
   "execution_count": 27,
   "metadata": {},
   "outputs": [],
   "source": [
    "import numpy as np\n",
    "from scipy.spatial import distance\n",
    "# 距离函数\n",
    "# def dis_abs(x,y):\n",
    "#     return distance.cdist(x, y, 'euclidean')\n",
    "# DTW 的代码实现\n",
    "def dtw(dist):\n",
    "    N_A = dist.shape[0]\n",
    "    N_B = dist.shape[1]\n",
    "    \n",
    "    D =np.zeros([N_A,N_B])\n",
    "    D[0,0]=2*dist[0][0]\n",
    "    \n",
    "    # 左边一列\n",
    "    for i in range(1,N_A):\n",
    "        D[i,0] = D[i-1,0]+dist[i][0]\n",
    "        \n",
    "    # 下面的一行\n",
    "    for j in range(1,N_B):\n",
    "         D[0,j] = D[0,j-1]+dist[0][j]\n",
    "    \n",
    "    #中间部分\n",
    "    for i in range(1,N_A):\n",
    "        for j in range(1,N_B):\n",
    "            D[i,j]=min(D[i-1,j]+dist[i][j],D[i,j-1]+dist[i][j],D[i-1,j-1]+2*dist[i][j])\n",
    "    \n",
    "    #路径回测\n",
    "    i = N_A-1\n",
    "    j = N_B-1\n",
    "    count = 0\n",
    "    d = np.zeros(max(N_A,N_B)*3)\n",
    "    #print(d)\n",
    "    path = []\n",
    "    while True:\n",
    "        if i>0 and j>0:\n",
    "            path.append((i,j))\n",
    "            m = min(D[i-1,j],D[i,j-1],D[i-1,j-1])\n",
    "\n",
    "            if  m == D[i-1,j-1]:\n",
    "                d[count]=D[i,j] - 2*dist[i][j]\n",
    "                i = i-1\n",
    "                j = j-1\n",
    "                count = count + 1\n",
    "\n",
    "            elif  m == D[i,j-1]:\n",
    "                d[count]=D[i,j] - dist[i,j-1]\n",
    "                j = j-1\n",
    "                count = count + 1\n",
    " \n",
    "            elif  m == D[i-1,j]:\n",
    "                d[count]=D[i,j] - dist[i-1,j]\n",
    "                i = i-1\n",
    "                count = count + 1\n",
    "\n",
    "        elif i == 0 and j == 0:\n",
    "            path.append((i,j))\n",
    "            d[count] = D[i,j]\n",
    "            count = count + 1\n",
    "            break\n",
    "\n",
    "        elif i == 0:\n",
    "            path.append((i,j))\n",
    "            d[count]=D[i,j] - dist[i,j-1]\n",
    "            j = j-1\n",
    "            count = count + 1\n",
    "\n",
    "        elif j == 0:\n",
    "            path.append((i,j))\n",
    "            d[count]=D[i,j] - dist[i-1,j]\n",
    "            i = i-1\n",
    "            count = count + 1\n",
    "\n",
    "    mean = np.sum(d)/count\n",
    "    return mean,path[::-1],D    "
   ]
  },
  {
   "cell_type": "code",
   "execution_count": 28,
   "metadata": {},
   "outputs": [
    {
     "name": "stdout",
     "output_type": "stream",
     "text": [
      "9.5\n",
      "[(0, 0), (1, 0), (2, 1), (3, 2), (4, 2), (5, 3)]\n",
      "[[ 4.  5. 10. 11.]\n",
      " [ 7.  9. 17. 13.]\n",
      " [12. 11. 15. 16.]\n",
      " [16. 18. 15. 19.]\n",
      " [17. 22. 16. 22.]\n",
      " [19. 19. 23. 26.]]\n"
     ]
    }
   ],
   "source": [
    "import numpy as np\n",
    "a = np.array([[2,1,5,1],[3,4,8,2],[5,2,4,3],[4,7,2,4],[1,5,1,6],[2,1,7,5]])  # cost距离矩阵\n",
    "# a = a[:,np.newaxis]\n",
    "# b = b[:,np.newaxis]\n",
    "#print(a[0][0])\n",
    "dis,path,D = dtw(a)\n",
    "print(dis)\n",
    "print(path)\n",
    "print(D)"
   ]
  },
  {
   "cell_type": "code",
   "execution_count": null,
   "metadata": {},
   "outputs": [],
   "source": []
  }
 ],
 "metadata": {
  "kernelspec": {
   "display_name": "Python 3",
   "language": "python",
   "name": "python3"
  },
  "language_info": {
   "codemirror_mode": {
    "name": "ipython",
    "version": 3
   },
   "file_extension": ".py",
   "mimetype": "text/x-python",
   "name": "python",
   "nbconvert_exporter": "python",
   "pygments_lexer": "ipython3",
   "version": "3.8.3"
  }
 },
 "nbformat": 4,
 "nbformat_minor": 4
}
